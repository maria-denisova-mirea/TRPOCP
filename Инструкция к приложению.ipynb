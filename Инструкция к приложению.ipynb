{
 "cells": [
  {
   "cell_type": "markdown",
   "id": "37cf3634",
   "metadata": {},
   "source": [
    "# Добро пожаловать в приложение \"Калькулятор\"!"
   ]
  },
  {
   "cell_type": "markdown",
   "id": "aab8c899",
   "metadata": {},
   "source": [
    "Для того, чтобы начать пользоваться калькулятором, необходимо по очереди через Enter ввести в консоль первое и второе необходимое для вычислений число (число a и b, соотвественно). Например, пусть a = 10, а b = 5:"
   ]
  },
  {
   "cell_type": "code",
   "execution_count": 3,
   "id": "344115ae",
   "metadata": {},
   "outputs": [],
   "source": [
    "a, b = 10, 5"
   ]
  },
  {
   "cell_type": "markdown",
   "id": "dbf04ff1",
   "metadata": {},
   "source": [
    "**Напоминание!** Калькулятор работает с **целыми** числами!"
   ]
  },
  {
   "cell_type": "markdown",
   "id": "7a083121",
   "metadata": {},
   "source": [
    "После введения чисел и нажатия Enter в консоли будут выведены каждый с новой строки ответы для сложения, вычитания, умножения и деления по порядку:"
   ]
  },
  {
   "cell_type": "code",
   "execution_count": null,
   "id": "db168a61",
   "metadata": {},
   "outputs": [
    {
     "name": "stdout",
     "output_type": "stream",
     "text": [
      "15\n",
      "5\n",
      "50\n",
      "2.0\n"
     ]
    }
   ],
   "source": [
    "print(a+b, a-b, a*b, a/b, sep='\\n')"
   ]
  },
  {
   "cell_type": "markdown",
   "id": "d2cbceea",
   "metadata": {},
   "source": [
    "Готово! Принцип работы ничем не отличается от обычных непрограммируемых калькуляторов."
   ]
  }
 ],
 "metadata": {
  "kernelspec": {
   "display_name": "Python 3",
   "language": "python",
   "name": "python3"
  },
  "language_info": {
   "codemirror_mode": {
    "name": "ipython",
    "version": 3
   },
   "file_extension": ".py",
   "mimetype": "text/x-python",
   "name": "python",
   "nbconvert_exporter": "python",
   "pygments_lexer": "ipython3",
   "version": "3.12.7"
  }
 },
 "nbformat": 4,
 "nbformat_minor": 5
}
